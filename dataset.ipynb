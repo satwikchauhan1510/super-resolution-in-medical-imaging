{
  "nbformat": 4,
  "nbformat_minor": 0,
  "metadata": {
    "colab": {
      "name": "dataset.ipynb",
      "provenance": [],
      "collapsed_sections": []
    },
    "kernelspec": {
      "name": "python3",
      "display_name": "Python 3"
    },
    "language_info": {
      "name": "python"
    }
  },
  "cells": [
    {
      "cell_type": "code",
      "execution_count": null,
      "metadata": {
        "id": "GJ5AmMP5eKCl",
        "colab": {
          "base_uri": "https://localhost:8080/"
        },
        "outputId": "b0f94215-17f9-4b79-f6eb-f27f66b9206a"
      },
      "outputs": [
        {
          "output_type": "stream",
          "name": "stdout",
          "text": [
            "TensorFlow 1.x selected.\n"
          ]
        }
      ],
      "source": [
        "import numpy as np\n",
        "import nibabel as nib\n",
        "import math\n",
        "import os\n",
        "from skimage.util import view_as_windows\n",
        "from skimage.metrics import structural_similarity as ssim\n",
        "from skimage.metrics import peak_signal_noise_ratio as psnr\n",
        "import cv2\n",
        "import matplotlib.pyplot as plt"
      ]
    },
    {
      "cell_type": "code",
      "source": [
        "from google.colab import drive\n",
        "drive.mount('/content/drive')"
      ],
      "metadata": {
        "colab": {
          "base_uri": "https://localhost:8080/"
        },
        "id": "_Wfc9iz7ePbP",
        "outputId": "c6ea1ed2-4e07-457e-f6bd-705c4688a102"
      },
      "execution_count": null,
      "outputs": [
        {
          "output_type": "stream",
          "name": "stdout",
          "text": [
            "Mounted at /content/drive\n"
          ]
        }
      ]
    },
    {
      "cell_type": "code",
      "source": [
        "#creating a list with sorted files in nifti format from the dataset location\n",
        "data_path = \"/content/drive/My Drive/Colab Notebooks/BRATS/HGG\"\n",
        "list_dir = os.listdir(data_path)\n",
        "list_dir_sorted = sorted(list_dir)"
      ],
      "metadata": {
        "id": "iLOzGKiAsmwX"
      },
      "execution_count": null,
      "outputs": []
    },
    {
      "cell_type": "code",
      "source": [
        "#read the data in nift format and return numpy array \n",
        "def data_loader(x):\n",
        "  for subject in os.listdir(data_path+list_dir_sorted[x]):\n",
        "    if subject[-8] == str(1):\n",
        "      filename=os.path.join(data_path+list_dir_sorted[x],subject)\n",
        "      #print(subject)\n",
        "      proxy = nib.load(filename)\n",
        "      data = np.array(proxy.dataobj, order='C')\n",
        "      data = np.einsum('kli->ikl', data)\n",
        "  return data"
      ],
      "metadata": {
        "id": "NcoVqxrAeuFP"
      },
      "execution_count": null,
      "outputs": []
    },
    {
      "cell_type": "code",
      "source": [
        "def replace_value(slce_ds, slce):\n",
        "  max_org = slce.max()\n",
        "  min_org = slce.min()\n",
        "  max = slce_ds.max()\n",
        "  min = slce_ds.min()\n",
        "  for i in range(64):\n",
        "    for j in range(64):\n",
        "      if slce_ds[i][j]==max:\n",
        "        slce_ds[i][j]=max_org\n",
        "      elif slce_ds[i][j]==min:\n",
        "        slce_ds[i][j]=min_org\n",
        "  return slce_ds"
      ],
      "metadata": {
        "id": "n6gQRa3uRb8s"
      },
      "execution_count": null,
      "outputs": []
    },
    {
      "cell_type": "code",
      "source": [
        "def getLR(hr_data):\n",
        "    imgfft = np.fft.fftn(hr_data)\n",
        "    x_center = imgfft.shape[0] // 2\n",
        "    y_center = imgfft.shape[1] // 2\n",
        "    imgfft[x_center-100 : x_center+100, y_center-100 : y_center+100] = 0\n",
        "    imgifft = np.fft.ifftn(imgfft)\n",
        "    img_out = abs(imgifft)\n",
        "    return img_out"
      ],
      "metadata": {
        "id": "oaFJp3OxaBwz"
      },
      "execution_count": null,
      "outputs": []
    },
    {
      "cell_type": "code",
      "source": [
        "#saves the HR and LR images in numpy format from nift format to be used for testing and training Real-ESRGAN and ESRGAN\n",
        "#specify the location to save the HR and LR images\n",
        "dim = (64,64)\n",
        "count_neg = 0\n",
        "a_ssim = []\n",
        "start = 0\n",
        "end = 223\n",
        "count = 0\n",
        "count_blank = 0\n",
        "\n",
        "for i in range(start,end):\n",
        "  data = data_loader(i)\n",
        "  data = data.astype('float32')\n",
        "  print(data.shape)\n",
        "  for j,img in enumerate(data):\n",
        "    count+=1\n",
        "    max = np.max(img)\n",
        "    min = np.min(img)\n",
        "    if max != min:\n",
        "      count_blank+=1\n",
        "      img = (img-np.min(img))/(np.max(img)-np.min(img))\n",
        "      a = int((256-img.shape[0])/2)\n",
        "      b = int((256-img.shape[1])/2)\n",
        "      if a<0 or b<0:\n",
        "        count_neg+=1\n",
        "        continue\n",
        "      img = np.pad(img, [(a, a), (b, b)], mode='constant')\n",
        "      #img = np.rot90(img)\n",
        "      img = img[:,:,np.newaxis]\n",
        "      np.save(str(i) + \"_slc\" + str(j)  + \"_org.npy\", img)\n",
        "\n",
        "      slce_ds = getLR(img)\n",
        "      slce_ds = cv2.resize(slce_ds, dim, interpolation=cv2.INTER_LINEAR)\n",
        "      slce_ds = replace_value(slce_ds, img)\n",
        "      slce_ds =(slce_ds-np.min(slce_ds))/(np.max(slce_ds)-np.min(slce_ds))\n",
        "      np.save(str(i) + \"_slc\" + str(j)  + \"_lr.npy\", slce_ds)  "
      ],
      "metadata": {
        "id": "0r1JS0BsfEsD"
      },
      "execution_count": null,
      "outputs": []
    }
  ]
}